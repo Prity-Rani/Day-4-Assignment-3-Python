{
  "nbformat": 4,
  "nbformat_minor": 0,
  "metadata": {
    "colab": {
      "name": "Untitled3.ipynb",
      "provenance": [],
      "authorship_tag": "ABX9TyNoLh8Z9dnaYziiK118NmPj",
      "include_colab_link": true
    },
    "kernelspec": {
      "name": "python3",
      "display_name": "Python 3"
    }
  },
  "cells": [
    {
      "cell_type": "markdown",
      "metadata": {
        "id": "view-in-github",
        "colab_type": "text"
      },
      "source": [
        "<a href=\"https://colab.research.google.com/github/Prity-Rani/Day-4-Assignment-3-Python/blob/master/Untitled3.ipynb\" target=\"_parent\"><img src=\"https://colab.research.google.com/assets/colab-badge.svg\" alt=\"Open In Colab\"/></a>"
      ]
    },
    {
      "cell_type": "code",
      "metadata": {
        "id": "KA5Bxz8rV7bh",
        "colab_type": "code",
        "colab": {
          "base_uri": "https://localhost:8080/",
          "height": 34
        },
        "outputId": "75671bf8-5ad7-42ca-e879-0d6fef66cbe1"
      },
      "source": [
        "for n in range(1042000,702648265):\n",
        "  l=len(str(n))\n",
        "  sum=0\n",
        "  temp=n\n",
        "  while temp>0:\n",
        "     d=temp%10\n",
        "     sum+=d**l  \n",
        "     temp=temp//10\n",
        "  if sum==n:\n",
        "    print(\"The first armstrong number is:\",n)\n",
        "    break"
      ],
      "execution_count": 31,
      "outputs": [
        {
          "output_type": "stream",
          "text": [
            "The first armstrong number is: 1741725\n"
          ],
          "name": "stdout"
        }
      ]
    }
  ]
}